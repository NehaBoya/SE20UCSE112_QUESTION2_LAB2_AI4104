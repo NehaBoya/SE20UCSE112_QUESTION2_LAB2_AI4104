{
  "nbformat": 4,
  "nbformat_minor": 0,
  "metadata": {
    "colab": {
      "provenance": []
    },
    "kernelspec": {
      "name": "python3",
      "display_name": "Python 3"
    },
    "language_info": {
      "name": "python"
    }
  },
  "cells": [
    {
      "cell_type": "code",
      "execution_count": 1,
      "metadata": {
        "colab": {
          "base_uri": "https://localhost:8080/"
        },
        "id": "Ics82UhIzpxp",
        "outputId": "2005aa28-7f6b-4be6-a9cc-b8009d51d1aa"
      },
      "outputs": [
        {
          "output_type": "stream",
          "name": "stdout",
          "text": [
            "FCFS Order: ['A', 'B', 'C', 'D']\n",
            "SJF Order: ['D', 'B', 'A', 'C']\n",
            "Priority Scheduling Order: ['B', 'D', 'A', 'C']\n",
            "Round Robin Order (Time Quantum: 10): ['B', 'D', 'A', 'C', 'B', 'D', 'A', 'C', 'A', 'C', 'C']\n"
          ]
        }
      ],
      "source": [
        "from operator import itemgetter\n",
        "\n",
        "class Patient:\n",
        "    def __init__(self, name, arrival_time, treatment_time, urgency):\n",
        "        self.name = name\n",
        "        self.arrival_time = arrival_time\n",
        "        self.treatment_time = treatment_time\n",
        "        self.urgency = urgency\n",
        "\n",
        "    def __str__(self):\n",
        "        return f\"Patient {self.name} (Arrival: {self.arrival_time}, Treatment Time: {self.treatment_time}, Urgency: {self.urgency})\"\n",
        "\n",
        "\n",
        "def fcfs_schedule(patients):\n",
        "    patients.sort(key=lambda p: p.arrival_time)\n",
        "    return [patient.name for patient in patients]\n",
        "\n",
        "\n",
        "def sjf_schedule(patients):\n",
        "    patients.sort(key=lambda p: (p.treatment_time, p.urgency))\n",
        "    return [patient.name for patient in patients]\n",
        "\n",
        "\n",
        "def priority_schedule(patients):\n",
        "    patients.sort(key=lambda p: p.urgency, reverse=True)\n",
        "    return [patient.name for patient in patients]\n",
        "\n",
        "\n",
        "def round_robin_schedule(patients, time_quantum):\n",
        "    queue = patients.copy()\n",
        "    scheduled_order = []\n",
        "\n",
        "    while queue:\n",
        "        for i in range(len(queue)):\n",
        "            patient = queue[i]\n",
        "            if patient.treatment_time > 0:\n",
        "                scheduled_order.append(patient.name)\n",
        "                if patient.treatment_time <= time_quantum:\n",
        "                    time_spent = patient.treatment_time\n",
        "                else:\n",
        "                    time_spent = time_quantum\n",
        "\n",
        "                patient.treatment_time -= time_spent\n",
        "\n",
        "        queue = [patient for patient in queue if patient.treatment_time > 0]\n",
        "\n",
        "    return scheduled_order\n",
        "\n",
        "\n",
        "if __name__ == \"__main__\":\n",
        "    patients = [\n",
        "        Patient(\"A\", \"00:00\", 30, 3),\n",
        "        Patient(\"B\", \"00:10\", 20, 5),\n",
        "        Patient(\"C\", \"00:15\", 40, 2),\n",
        "        Patient(\"D\", \"00:20\", 15, 4)\n",
        "    ]\n",
        "\n",
        "    # FCFS (First-Come-First-Serve)\n",
        "    fcfs_order = fcfs_schedule(patients)\n",
        "    print(\"FCFS Order:\", fcfs_order)\n",
        "\n",
        "    # SJF (Shortest Job First)\n",
        "    sjf_order = sjf_schedule(patients)\n",
        "    print(\"SJF Order:\", sjf_order)\n",
        "\n",
        "    # Priority Scheduling\n",
        "    priority_order = priority_schedule(patients)\n",
        "    print(\"Priority Scheduling Order:\", priority_order)\n",
        "\n",
        "    # Round Robin\n",
        "    time_quantum = 10\n",
        "    round_robin_order = round_robin_schedule(patients, time_quantum)\n",
        "    print(f\"Round Robin Order (Time Quantum: {time_quantum}):\", round_robin_order)\n"
      ]
    }
  ]
}